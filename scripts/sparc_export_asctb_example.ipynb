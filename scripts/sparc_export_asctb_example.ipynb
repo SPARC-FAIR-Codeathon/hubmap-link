{
 "cells": [
  {
   "cell_type": "code",
   "execution_count": 1,
   "id": "71404a13-293f-41d8-be54-de378f9b911d",
   "metadata": {},
   "outputs": [],
   "source": [
    "import json"
   ]
  },
  {
   "cell_type": "code",
   "execution_count": 2,
   "id": "9e957506-a235-439e-9375-60bf373d1a7a",
   "metadata": {},
   "outputs": [],
   "source": [
    "#Import the helper functions\n",
    "%run ./sparc_export_asctb.ipynb"
   ]
  },
  {
   "cell_type": "code",
   "execution_count": 3,
   "id": "3d4ace93-7c52-465f-b753-31341741c49a",
   "metadata": {},
   "outputs": [],
   "source": [
    "#Define arguments \n",
    "root_node_id='UBERON:0000948'\n",
    "api_key='SB5jsflPjsQcmfPqB1zS3XuDNx3sfd19'\n",
    "file_path='../data/sparc_cff_asctb_sample.csv'\n",
    "max_search_depth=7\n",
    "relationship_type='http://purl.obolibrary.org/obo/BFO_0000050'"
   ]
  },
  {
   "cell_type": "code",
   "execution_count": 4,
   "id": "56184b4b-2b5c-413f-80dc-67869beea577",
   "metadata": {},
   "outputs": [],
   "source": [
    "#Generate an ASCT+B CSV file\n",
    "export_sparc_asctb_csv(root_node_id, api_key, file_path, max_search_depth=max_search_depth, relationship_type=relationship_type)"
   ]
  },
  {
   "cell_type": "code",
   "execution_count": 5,
   "id": "2ba26331-9862-4521-9143-b094dc2e797e",
   "metadata": {},
   "outputs": [],
   "source": [
    "#Generate an object graph\n",
    "root_node, nodeIdx = fetch_sparc_term_graph_object(root_node_id, api_key, max_search_depth=max_search_depth, relationship_type=relationship_type)\n",
    "#Write the graph to disk\n",
    "jsonString = json.dumps(root_node)\n",
    "jsonFile = open(\"../data/sparc_partonomy_sample.json\", \"w\")\n",
    "jsonFile.write(jsonString)\n",
    "jsonFile.close()"
   ]
  }
 ],
 "metadata": {
  "kernelspec": {
   "display_name": "Python 3",
   "language": "python",
   "name": "python3"
  },
  "language_info": {
   "codemirror_mode": {
    "name": "ipython",
    "version": 3
   },
   "file_extension": ".py",
   "mimetype": "text/x-python",
   "name": "python",
   "nbconvert_exporter": "python",
   "pygments_lexer": "ipython3",
   "version": "3.8.8"
  }
 },
 "nbformat": 4,
 "nbformat_minor": 5
}
