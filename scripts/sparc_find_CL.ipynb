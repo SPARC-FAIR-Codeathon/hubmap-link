{
 "cells": [
  {
   "cell_type": "markdown",
   "id": "25421bcb-bcbe-4671-a046-314f67352929",
   "metadata": {},
   "source": [
    "### Exploratory script to determine if cell type linkages exists in SciGraph and locate their relationship type, if so\n",
    "**Author: Samuel O'Blenes**  \n",
    "**Date: 7/15/21**  "
   ]
  },
  {
   "cell_type": "code",
   "execution_count": 1,
   "id": "790f72ec-f727-4fd0-8da7-be06935c3300",
   "metadata": {},
   "outputs": [],
   "source": [
    "import requests\n",
    "import pandas as pd\n",
    "import numpy as np\n",
    "import csv\n",
    "import time\n",
    "from collections import defaultdict"
   ]
  },
  {
   "cell_type": "code",
   "execution_count": 2,
   "id": "3747945b-8fce-4343-972a-5651026aef7a",
   "metadata": {},
   "outputs": [],
   "source": [
    "#Import the helper functions\n",
    "%run ./sparc_export_asctb.ipynb"
   ]
  },
  {
   "cell_type": "code",
   "execution_count": 3,
   "id": "bb479a45-3cb8-4b13-b8a8-15b214569ad2",
   "metadata": {},
   "outputs": [],
   "source": [
    "#Define arguments \n",
    "root_node_id='UBERON:0000948'\n",
    "api_key='SB5jsflPjsQcmfPqB1zS3XuDNx3sfd19'\n",
    "file_path='../data/sparc_asctb_sample.csv'\n",
    "max_search_depth=8\n",
    "relationship_type='http://purl.obolibrary.org/obo/BFO_0000050'"
   ]
  },
  {
   "cell_type": "code",
   "execution_count": 5,
   "id": "5568bd3b-8926-41de-bcfb-aca81a2d3996",
   "metadata": {},
   "outputs": [],
   "source": [
    "    as_nodeList, as_nodeIdx, as_objEdgeIdx, as_subEdgeIdx = query_sparc_ontology_graph(root_node_id, api_key, max_search_depth, relationship_type)\n",
    "     \n",
    "    # Define a function to recursively list the ancestors of a node. Assume a strict hierarchy\n",
    "    def listAncestry(node, ancestryList):\n",
    "        ancestryList.append(node)\n",
    "        if node.get('id') in as_subEdgeIdx:\n",
    "            as_nodeIdx.get\n",
    "            listAncestry(as_subEdgeIdx[node.get('id')], ancestryList)\n",
    "            \n",
    "    # Iterate over all terms and generate their ancestry list\n",
    "    # Append root node to the end of the list, then reverse it so that ancestors appear first\n",
    "    allAncestryList = []\n",
    "    for as_node in as_nodeList:\n",
    "        nodeAncestryList = []\n",
    "        allAncestryList.append(nodeAncestryList)\n",
    "        listAncestry(as_node, nodeAncestryList)\n",
    "        nodeAncestryList.reverse()"
   ]
  },
  {
   "cell_type": "code",
   "execution_count": 10,
   "id": "fc3270c6-9798-4608-85f8-f8ef957251a5",
   "metadata": {},
   "outputs": [],
   "source": [
    "as_id_to_ct_dict = {}\n",
    "# Iterate all identified anatomical structures\n",
    "# Search for direct cell type linkages\n",
    "for as_node in as_nodeList:\n",
    "    ct_nodeList, ct_nodeIdx, ct_objEdgeIdx, ct_subEdgeIdx = query_sparc_ontology_graph(as_node.get('id'), api_key, max_search_depth=1, relationship_type='RO:0002433')\n",
    "    #determine if any search result nodes belong to the cell ontology\n",
    "    if any([node.get('id').startswith('CL') for node in ct_nodeList]):\n",
    "        print(as_node)\n",
    "        break"
   ]
  },
  {
   "cell_type": "code",
   "execution_count": null,
   "id": "440a9286-a44c-4ead-991c-b4ec075fb505",
   "metadata": {},
   "outputs": [],
   "source": []
  }
 ],
 "metadata": {
  "kernelspec": {
   "display_name": "Python 3",
   "language": "python",
   "name": "python3"
  },
  "language_info": {
   "codemirror_mode": {
    "name": "ipython",
    "version": 3
   },
   "file_extension": ".py",
   "mimetype": "text/x-python",
   "name": "python",
   "nbconvert_exporter": "python",
   "pygments_lexer": "ipython3",
   "version": "3.8.10"
  }
 },
 "nbformat": 4,
 "nbformat_minor": 5
}
