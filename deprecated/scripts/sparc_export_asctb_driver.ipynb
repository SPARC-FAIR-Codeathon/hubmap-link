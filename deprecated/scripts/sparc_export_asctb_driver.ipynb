{
 "cells": [
  {
   "cell_type": "markdown",
   "id": "1628b77a-4a8e-4f6d-a8ac-391f3bbfb641",
   "metadata": {},
   "source": [
    "### Export multiple organ ASCT+B data to csv and json format from SciGraph\n",
    "**Author: Samuel O'Blenes**  \n",
    "**Date: 7/15/21**  \n",
    "  \n",
    "A script to efficiently dump multiple organs to ASCT+B csv format and json format."
   ]
  },
  {
   "cell_type": "code",
   "execution_count": 1,
   "id": "71404a13-293f-41d8-be54-de378f9b911d",
   "metadata": {},
   "outputs": [],
   "source": [
    "import json"
   ]
  },
  {
   "cell_type": "code",
   "execution_count": 2,
   "id": "9e957506-a235-439e-9375-60bf373d1a7a",
   "metadata": {},
   "outputs": [],
   "source": [
    "#Import the helper functions\n",
    "%run ./sparc_export_asctb.ipynb"
   ]
  },
  {
   "cell_type": "code",
   "execution_count": 6,
   "id": "d779a100-6468-42d4-9f52-e176e3241004",
   "metadata": {},
   "outputs": [],
   "source": [
    "# Common organ IDs:\n",
    "organs = [\n",
    "    { 'name':'kidney', 'id':'UBERON:0002113' },\n",
    "    { 'name':'heart', 'id':'UBERON:0000948' },\n",
    "    { 'name':'bone-marrow', 'id':'UBERON:0002371' },\n",
    "    { 'name':'blood', 'id':'UBERON:0000178' },\n",
    "    { 'name':'large-intestine', 'id':'UBERON:0000059' },\n",
    "    { 'name':'lymph-nodes', 'id':'UBERON:0000029' },\n",
    "    { 'name':'brain', 'id':'UBERON:0000955'}\n",
    "#    { 'name':'skin', 'id':'UBERON:00002097' }, # no results\n",
    "#    { 'name':'spleen-1', 'id':'UBERON:00002106' }, # no results\n",
    "#    { 'name':'spleen-2', 'id':'UBERON:00002107' }, # no results\n",
    "#    { 'name':'spleen-3', 'id':'UBERON:00002108' }, # no results\n",
    "#    { 'name':'thymus', 'id':'UBERON:00002370' }, # no results\n",
    "#    { 'name':'vasculature', 'id':'UBERON:00002049' } # no results\n",
    "]"
   ]
  },
  {
   "cell_type": "code",
   "execution_count": 7,
   "id": "3d4ace93-7c52-465f-b753-31341741c49a",
   "metadata": {},
   "outputs": [],
   "source": [
    "#Define arguments \n",
    "root_node_id=''\n",
    "api_key='SB5jsflPjsQcmfPqB1zS3XuDNx3sfd19'\n",
    "csv_file_path='../data/sparc_asctb_'\n",
    "json_file_path='../data/sparc_'\n",
    "max_search_depth=8\n",
    "relationship_type='http://purl.obolibrary.org/obo/BFO_0000050'"
   ]
  },
  {
   "cell_type": "code",
   "execution_count": 8,
   "id": "56184b4b-2b5c-413f-80dc-67869beea577",
   "metadata": {},
   "outputs": [],
   "source": [
    "for organ in organs:\n",
    "    root_node_id=organ.get('id')\n",
    "    csv_file_path='../data/sparc_asctb_' + organ.get('name') + '.csv'\n",
    "    json_file_path='../data/sparc_' + organ.get('name') + '.json'\n",
    "    #Generate an ASCT+B CSV file\n",
    "    export_sparc_asctb_csv(root_node_id, api_key, csv_file_path, max_search_depth=max_search_depth, relationship_type=relationship_type)\n",
    "    #Generate an object graph\n",
    "    root_node, nodeIdx = fetch_sparc_term_graph_object(root_node_id, api_key, max_search_depth=max_search_depth, relationship_type=relationship_type)\n",
    "    #Write the graph to disk\n",
    "    jsonString = json.dumps(root_node)\n",
    "    jsonFile = open(json_file_path, \"w\")\n",
    "    jsonFile.write(jsonString)\n",
    "    jsonFile.close()"
   ]
  },
  {
   "cell_type": "code",
   "execution_count": null,
   "id": "c0853afe-0cff-487e-b5f0-81ab0ddd60c2",
   "metadata": {},
   "outputs": [],
   "source": []
  }
 ],
 "metadata": {
  "kernelspec": {
   "display_name": "Python 3",
   "language": "python",
   "name": "python3"
  },
  "language_info": {
   "codemirror_mode": {
    "name": "ipython",
    "version": 3
   },
   "file_extension": ".py",
   "mimetype": "text/x-python",
   "name": "python",
   "nbconvert_exporter": "python",
   "pygments_lexer": "ipython3",
   "version": "3.8.10"
  }
 },
 "nbformat": 4,
 "nbformat_minor": 5
}
