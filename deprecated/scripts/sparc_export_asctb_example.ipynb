{
 "cells": [
  {
   "cell_type": "markdown",
   "id": "7372af79-e12f-4d47-8f20-95977a3f4f2d",
   "metadata": {},
   "source": [
    "### Export a single organ to ASCT+B csv and json format from SciGraph\n",
    "**Author: Samuel O'Blenes**  \n",
    "**Date: 7/15/21**  \n",
    "  \n",
    "This is an example of how to invoke the sparc_export_asctb.ipynb script to export organ ASCT+B data."
   ]
  },
  {
   "cell_type": "code",
   "execution_count": 20,
   "id": "71404a13-293f-41d8-be54-de378f9b911d",
   "metadata": {},
   "outputs": [],
   "source": [
    "import json"
   ]
  },
  {
   "cell_type": "code",
   "execution_count": 21,
   "id": "9e957506-a235-439e-9375-60bf373d1a7a",
   "metadata": {},
   "outputs": [],
   "source": [
    "#Import the helper functions\n",
    "%run ./sparc_export_asctb.ipynb"
   ]
  },
  {
   "cell_type": "code",
   "execution_count": null,
   "id": "d779a100-6468-42d4-9f52-e176e3241004",
   "metadata": {},
   "outputs": [],
   "source": [
    "# Common organ IDs:\n",
    "#\n",
    "# Kidney: UBERON:0002113\n",
    "# Heart: UBERON:0000948\n",
    "# Bone marrow: UBERON:0002371\n",
    "# Blood: UBERON:0000178\n",
    "# Large intestine: UBERON:0000059\n",
    "# Lymph nodes: UBERON:0000029\n",
    "# Skin: UBERON:00002097\n",
    "# Spleen 1: UBERON:00002106\n",
    "# Spleen 2: UBERON:00002107\n",
    "# Spleen 3: UBERON:00002108\n",
    "# Thymus: UBERON:00002370\n",
    "# Vasculature: UBERON:00002049"
   ]
  },
  {
   "cell_type": "code",
   "execution_count": 22,
   "id": "3d4ace93-7c52-465f-b753-31341741c49a",
   "metadata": {},
   "outputs": [],
   "source": [
    "#Define arguments \n",
    "root_node_id='UBERON:0002113'\n",
    "api_key='SB5jsflPjsQcmfPqB1zS3XuDNx3sfd19'\n",
    "file_path='../data/sparc_asctb_kidney.csv'\n",
    "max_search_depth=8\n",
    "relationship_type='http://purl.obolibrary.org/obo/BFO_0000050'"
   ]
  },
  {
   "cell_type": "code",
   "execution_count": 23,
   "id": "56184b4b-2b5c-413f-80dc-67869beea577",
   "metadata": {},
   "outputs": [],
   "source": [
    "#Generate an ASCT+B CSV file\n",
    "export_sparc_asctb_csv(root_node_id, api_key, file_path, max_search_depth=max_search_depth, relationship_type=relationship_type)"
   ]
  },
  {
   "cell_type": "code",
   "execution_count": 19,
   "id": "2ba26331-9862-4521-9143-b094dc2e797e",
   "metadata": {},
   "outputs": [],
   "source": [
    "#Generate an object graph\n",
    "root_node, nodeIdx = fetch_sparc_term_graph_object(root_node_id, api_key, max_search_depth=max_search_depth, relationship_type=relationship_type)\n",
    "#Write the graph to disk\n",
    "jsonString = json.dumps(root_node)\n",
    "jsonFile = open(\"../data/sparc_ontology_graph_sample.json\", \"w\")\n",
    "jsonFile.write(jsonString)\n",
    "jsonFile.close()"
   ]
  },
  {
   "cell_type": "code",
   "execution_count": null,
   "id": "0d1fffdf-f494-4dce-8c10-24d2834f594c",
   "metadata": {},
   "outputs": [],
   "source": []
  }
 ],
 "metadata": {
  "kernelspec": {
   "display_name": "Python 3",
   "language": "python",
   "name": "python3"
  },
  "language_info": {
   "codemirror_mode": {
    "name": "ipython",
    "version": 3
   },
   "file_extension": ".py",
   "mimetype": "text/x-python",
   "name": "python",
   "nbconvert_exporter": "python",
   "pygments_lexer": "ipython3",
   "version": "3.8.10"
  }
 },
 "nbformat": 4,
 "nbformat_minor": 5
}
